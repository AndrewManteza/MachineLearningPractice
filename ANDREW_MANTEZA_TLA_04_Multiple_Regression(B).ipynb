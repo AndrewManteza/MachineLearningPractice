{
  "nbformat": 4,
  "nbformat_minor": 0,
  "metadata": {
    "colab": {
      "name": "ANDREW MANTEZA - TLA.04.Multiple Regression(B)",
      "provenance": [],
      "collapsed_sections": []
    },
    "kernelspec": {
      "name": "python3",
      "display_name": "Python 3"
    }
  },
  "cells": [
    {
      "cell_type": "code",
      "metadata": {
        "id": "PAfNK_tNO7bn",
        "outputId": "234acc58-cbdb-4ce9-a027-a74c82df77ea",
        "colab": {
          "base_uri": "https://localhost:8080/",
          "height": 53
        }
      },
      "source": [
        "import pandas as pd\n",
        "from sklearn import linear_model\n",
        "import numpy as np\n",
        "data = pd.read_csv(\"/content/Real estate.csv\") \n",
        "\n",
        "X = data[['X2 house age', 'X3 distance to the nearest MRT station']]\n",
        "y = data[['Y house price of unit area']]\n",
        "\n",
        "cols = [\"X2 house age\", \"X3 distance to the nearest MRT station\", \"Y house price of unit area\"]\n",
        "\n",
        "regr = linear_model.LinearRegression()\n",
        "regr.fit(X, y)\n",
        "\n",
        "\n",
        "data_return = len(data[cols])\n",
        "training_return = round(data_return*0.80)\n",
        "test_return = round(data_return*0.20)\n",
        "\n",
        "x1training = data[cols[0]][:training_return]\n",
        "x1test = data[cols[0]][training_return:]\n",
        "\n",
        "x2training = data[cols[1]][:training_return]\n",
        "x2test = data[cols[1]][training_return:]\n",
        "\n",
        "ytraining = data[cols[2]][:training_return]\n",
        "ytest = data[cols[2]][training_return:]\n",
        "\n",
        "X1 = x1training.values.tolist()\n",
        "X2 = x2training.values.tolist()\n",
        "y = ytraining.values.tolist()\n",
        "\n",
        "\n",
        "X1mean = np.mean(X1)\n",
        "X2mean = np.mean(X2)\n",
        "ymean = np.mean(y)\n",
        " \n",
        "\n",
        "n = len(X1)\n",
        "\n",
        "sumX1 = 0 \n",
        "sumX2 = 0\n",
        "sumy = 0\n",
        "X1square = 0\n",
        "X2square = 0\n",
        "X1y = 0\n",
        "X2y = 0\n",
        "X1X2 = 0\n",
        "\n",
        "for i in range(n):\n",
        "  sumX1 += X1[i]\n",
        "  sumX2 += X2[i]\n",
        "  sumy += y[i]\n",
        "  X1square += X1[i] ** 2\n",
        "  X2square += X2[i] ** 2\n",
        "  X1y += X1[i] * y[i]\n",
        "  X2y += X2[i] * y[i]\n",
        "  X1X2 += X1[i] * X2[i] \n",
        "X2square = X2square - ( ((sumX2)**2 )/ n  )\n",
        "X1y = X1y - ( (sumX1*sumy) / n)\n",
        "X1X2 = X1X2 - ( (sumX1*sumX2) / n)\n",
        "X2y = X2y - ( (sumX2*sumy) / n)\n",
        "X1square = X1square - ( (sumX1)**2 / n)\n",
        "\n",
        "m1 = ( ( (X2square) * (X1y) ) - ( (X1X2) * (X2y) ) ) / ( ( (X1square) * (X2square) ) - ( (X1X2)**2 ) )\n",
        "\n",
        "m2 = ( ( (X1square) * (X2y) ) - ( (X1X2) * (X1y) ) ) / ( ( (X1square) * (X2square) ) - ( (X1X2)**2 ) )\n",
        "\n",
        "b = ymean - (m1*X1mean) - (m2*X2mean)\n",
        "\n",
        "print(regr.coef_)\n",
        "print(b)\n",
        "\n"
      ],
      "execution_count": null,
      "outputs": [
        {
          "output_type": "stream",
          "text": [
            "[[-0.23102658 -0.00720862]]\n",
            "50.37396536051935\n"
          ],
          "name": "stdout"
        }
      ]
    }
  ]
}